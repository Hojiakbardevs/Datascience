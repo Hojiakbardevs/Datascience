{
  "nbformat": 4,
  "nbformat_minor": 0,
  "metadata": {
    "colab": {
      "provenance": [],
      "toc_visible": true,
      "authorship_tag": "ABX9TyPEQ7egHITDXGw7Mex8DZOf",
      "include_colab_link": true
    },
    "kernelspec": {
      "name": "python3",
      "display_name": "Python 3"
    },
    "language_info": {
      "name": "python"
    }
  },
  "cells": [
    {
      "cell_type": "markdown",
      "metadata": {
        "id": "view-in-github",
        "colab_type": "text"
      },
      "source": [
        "<a href=\"https://colab.research.google.com/github/Hojiakbardevs/Datascience/blob/main/Deep_learning_loan_predict.ipynb\" target=\"_parent\"><img src=\"https://colab.research.google.com/assets/colab-badge.svg\" alt=\"Open In Colab\"/></a>"
      ]
    },
    {
      "cell_type": "code",
      "execution_count": 1,
      "metadata": {
        "id": "TNEGY2yXyBxE"
      },
      "outputs": [],
      "source": [
        "from fastai.tabular.all import *"
      ]
    },
    {
      "cell_type": "code",
      "source": [
        "!pip install fastai==2.5.3"
      ],
      "metadata": {
        "id": "WY296oS8WDQy"
      },
      "execution_count": null,
      "outputs": []
    },
    {
      "cell_type": "code",
      "source": [
        "import torch\n",
        "import fastai\n",
        "\n",
        "print(torch.__version__)\n",
        "# print(torch.torch_version_)\n",
        "print(fastai.__version__)"
      ],
      "metadata": {
        "id": "JpF9xVUwX4Vm"
      },
      "execution_count": null,
      "outputs": []
    },
    {
      "cell_type": "code",
      "source": [
        "from fastai.vision.all import *"
      ],
      "metadata": {
        "id": "IKrOtkGoY94j"
      },
      "execution_count": null,
      "outputs": []
    },
    {
      "cell_type": "code",
      "source": [
        "path = untar_data(URLs.MNIST_SAMPLE)\n",
        "path.ls()"
      ],
      "metadata": {
        "id": "z9MmygLTZC7D"
      },
      "execution_count": null,
      "outputs": []
    },
    {
      "cell_type": "code",
      "source": [
        "thress = (path/'train'/'3').ls().sorted()\n",
        "sevens = (path/'train'/'7').ls().sorted()\n"
      ],
      "metadata": {
        "id": "YltD2pK4agPA"
      },
      "execution_count": null,
      "outputs": []
    },
    {
      "cell_type": "code",
      "source": [
        "im3_sample = thress[10]\n",
        "im3 = Image.open(im3_sample)\n",
        "im3"
      ],
      "metadata": {
        "id": "1tJVi4Kga-x1"
      },
      "execution_count": null,
      "outputs": []
    },
    {
      "cell_type": "code",
      "source": [
        "im7_sample = sevens[10]\n",
        "im7 = Image.open(im7_sample)\n",
        "im7"
      ],
      "metadata": {
        "id": "aksjbFxLjIQw"
      },
      "execution_count": null,
      "outputs": []
    },
    {
      "cell_type": "code",
      "source": [
        "array(im3)[4:10]"
      ],
      "metadata": {
        "id": "35ttmmQ_cpi0"
      },
      "execution_count": null,
      "outputs": []
    },
    {
      "cell_type": "code",
      "source": [
        "tensor(im3)[4:10,4:10]"
      ],
      "metadata": {
        "id": "StrKzL3seKps"
      },
      "execution_count": null,
      "outputs": []
    },
    {
      "cell_type": "code",
      "source": [
        "import pandas as pd\n",
        "im3_t = tensor(im3)\n",
        "\n",
        "df = pd.DataFrame(im3_t[4:22,4:22])\n",
        "df.style.set_properties(**{'font-size':'9pt'}).background_gradient('Greys')"
      ],
      "metadata": {
        "id": "hKonN8SdeQX2"
      },
      "execution_count": null,
      "outputs": []
    },
    {
      "cell_type": "code",
      "source": [
        "three_tensors = [tensor(Image.open(i))for i in thress]\n",
        "seven_tensors = [tensor(Image.open(i))for i in sevens]\n",
        "len(three_tensors), len(seven_tensors)"
      ],
      "metadata": {
        "id": "B1ytqAdbi83V"
      },
      "execution_count": null,
      "outputs": []
    },
    {
      "cell_type": "code",
      "source": [
        "show_image(three_tensors[7])"
      ],
      "metadata": {
        "id": "TECbBHodjjX-"
      },
      "execution_count": null,
      "outputs": []
    },
    {
      "cell_type": "code",
      "source": [
        "stacked_three = torch.stack(three_tensors).float()/255\n",
        "stacked_seven = torch.stack(seven_tensors).float()/255\n",
        "\n",
        "stacked_seven.shape"
      ],
      "metadata": {
        "id": "uYMyybvbnkSp"
      },
      "execution_count": null,
      "outputs": []
    },
    {
      "cell_type": "code",
      "source": [
        "  tmean_3 = stacked_three.mean(0)\n",
        "  show_image(tmean_3)"
      ],
      "metadata": {
        "id": "wYzSKL2EoBkK"
      },
      "execution_count": null,
      "outputs": []
    },
    {
      "cell_type": "code",
      "source": [
        "tmean_7 = stacked_seven.mean(0)\n",
        "show_image(tmean_7)"
      ],
      "metadata": {
        "id": "eLzSuRuSoQOV"
      },
      "execution_count": null,
      "outputs": []
    },
    {
      "cell_type": "code",
      "source": [
        "s_3 = stacked_three[4]\n",
        "\n",
        "show_image(s_3)"
      ],
      "metadata": {
        "id": "KlAPba5gpO0P"
      },
      "execution_count": null,
      "outputs": []
    },
    {
      "cell_type": "code",
      "source": [
        "s_7 = stacked_seven[8]\n",
        "show_image(s_7)"
      ],
      "metadata": {
        "id": "fE6WhEcEpvOa"
      },
      "execution_count": null,
      "outputs": []
    },
    {
      "cell_type": "code",
      "source": [
        "mae = (s_3  - tmean_3).abs().mean()\n",
        "\n",
        "rmse = ((s_3 - tmean_3)**2).mean().sqrt()"
      ],
      "metadata": {
        "id": "0W6UgpgLpYd2"
      },
      "execution_count": null,
      "outputs": []
    },
    {
      "cell_type": "code",
      "source": [
        "mae, rmse"
      ],
      "metadata": {
        "id": "P-Isub8ApqrS"
      },
      "execution_count": null,
      "outputs": []
    },
    {
      "cell_type": "code",
      "source": [
        "mae = (s_3  - tmean_7).abs().mean()\n",
        "\n",
        "rmse = ((s_3 - tmean_7)**2).mean().sqrt()\n",
        "\n",
        "mae, rmse"
      ],
      "metadata": {
        "id": "k9RqHIP9p47Q"
      },
      "execution_count": null,
      "outputs": []
    },
    {
      "cell_type": "code",
      "source": [],
      "metadata": {
        "id": "IhLc2U9xBjhc"
      },
      "execution_count": null,
      "outputs": []
    }
  ]
}